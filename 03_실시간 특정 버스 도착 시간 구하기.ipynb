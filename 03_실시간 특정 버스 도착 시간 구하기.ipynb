{
 "cells": [
  {
   "cell_type": "code",
   "execution_count": 68,
   "metadata": {},
   "outputs": [
    {
     "name": "stdout",
     "output_type": "stream",
     "text": [
      "9\n",
      "stld: 116000635\n",
      "busRouteId: 100100286\n",
      "ord: 4\n"
     ]
    }
   ],
   "source": [
    "#서울특별시_노선정보조회 서비스 中 1_getStationByRouteList\n",
    "import requests, xmltodict, json\n",
    "\n",
    "key = 'kNSQvU5WeosgTXwCx1mTthdz93%2BlLXHKA7ZtzbuNArBuUVVP4akW5xsfp6R5JYuMH106DwcuJRTqXJHI4q%2BNjA%3D%3D'\n",
    "busRouteId = 100100286 #x좌표, y좌표 구해지기 이전 임의 지정\n",
    "url = 'http://ws.bus.go.kr/api/rest/busRouteInfo/getStaionByRoute?ServiceKey={}&busRouteId={}'.format(key, busRouteId)\n",
    "\n",
    "content = requests.get(url).content\n",
    "dict = xmltodict.parse(content)\n",
    "# for i in range(10):\n",
    "staionId = json.dumps(dict['ServiceResult']['msgBody']['itemList'][3]['station'], ensure_ascii = False)\n",
    "busRouteId = json.dumps(dict['ServiceResult']['msgBody']['itemList'][3]['busRouteId'], ensure_ascii = False)\n",
    "seq = json.dumps(dict['ServiceResult']['msgBody']['itemList'][3]['seq'], ensure_ascii = False)\n",
    "\n",
    "jsonstaionId = json.loads(staionId)\n",
    "jsonbusRouteId = json.loads(busRouteId)\n",
    "jsonseq = json.loads(seq)\n",
    "\n",
    "print(len(jsonstaionId))\n",
    "print('stld: ' + jsonstaionId)\n",
    "print('busRouteId: ' + jsonbusRouteId)\n",
    "print('ord: ' + jsonseq)"
   ]
  },
  {
   "cell_type": "code",
   "execution_count": 69,
   "metadata": {},
   "outputs": [
    {
     "name": "stdout",
     "output_type": "stream",
     "text": [
      "정류소명: 디지털단지오거리\n",
      "첫 번째 버스: 곧 도착\n",
      "두 번째 버스: 출발대기\n",
      "도착 예정 버스 차량 번호: 서울74사3174\n"
     ]
    }
   ],
   "source": [
    "#서울특별시_버스도착정보조회 서비스 中 2_getArrInfoByRouteList\n",
    "import requests, xmltodict, json\n",
    "key = 'kNSQvU5WeosgTXwCx1mTthdz93%2BlLXHKA7ZtzbuNArBuUVVP4akW5xsfp6R5JYuMH106DwcuJRTqXJHI4q%2BNjA%3D%3D'\n",
    "url = 'http://ws.bus.go.kr/api/rest/arrive/getArrInfoByRoute?ServiceKey={}&stId={}&busRouteId={}&ord={}'.format(key, jsonstaionId, jsonbusRouteId, jsonseq)\n",
    "\n",
    "content = requests.get(url).content\n",
    "dict = xmltodict.parse(content)\n",
    "busstation = json.dumps(dict['ServiceResult']['msgBody']['itemList']['stNm'], ensure_ascii = False)\n",
    "arrival = json.dumps(dict['ServiceResult']['msgBody']['itemList']['arrmsg1'], ensure_ascii = False)\n",
    "arrival2 = json.dumps(dict['ServiceResult']['msgBody']['itemList']['arrmsg2'], ensure_ascii = False)\n",
    "busplainnum = json.dumps(dict['ServiceResult']['msgBody']['itemList']['plainNo1'], ensure_ascii = False)\n",
    "\n",
    "jsonbusstation = json.loads(busstation)\n",
    "jsonarrival = json.loads(arrival)\n",
    "jsonsarrival2 = json.loads(arrival2)\n",
    "jsonsbusplainnum = json.loads(busplainnum)\n",
    "\n",
    "print('정류소명: ' + jsonbusstation)\n",
    "print('첫 번째 버스: ' + jsonarrival)\n",
    "print('두 번째 버스: ' + jsonsarrival2)\n",
    "print('도착 예정 버스 차량 번호: ' + jsonsbusplainnum)"
   ]
  },
  {
   "cell_type": "code",
   "execution_count": null,
   "metadata": {},
   "outputs": [],
   "source": []
  },
  {
   "cell_type": "code",
   "execution_count": null,
   "metadata": {},
   "outputs": [],
   "source": []
  }
 ],
 "metadata": {
  "kernelspec": {
   "display_name": "Python 3",
   "language": "python",
   "name": "python3"
  },
  "language_info": {
   "codemirror_mode": {
    "name": "ipython",
    "version": 3
   },
   "file_extension": ".py",
   "mimetype": "text/x-python",
   "name": "python",
   "nbconvert_exporter": "python",
   "pygments_lexer": "ipython3",
   "version": "3.8.5"
  }
 },
 "nbformat": 4,
 "nbformat_minor": 4
}
