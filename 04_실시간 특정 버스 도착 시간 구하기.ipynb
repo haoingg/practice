{
 "cells": [
  {
   "cell_type": "code",
   "execution_count": 1,
   "metadata": {},
   "outputs": [
    {
     "name": "stdout",
     "output_type": "stream",
     "text": [
      "정류소ID: 115000051\n",
      "정류소명: 화곡역\n",
      "정류소 고유번호: 16147\n"
     ]
    }
   ],
   "source": [
    "#서울특별시_정류소정보조회 서비스 中 7_getStaionsByPosList\n",
    "import requests, xmltodict, json\n",
    "\n",
    "tmX = 126.8388108\n",
    "tmY = 37.54112577\n",
    "radius = 150\n",
    "key = 'kNSQvU5WeosgTXwCx1mTthdz93%2BlLXHKA7ZtzbuNArBuUVVP4akW5xsfp6R5JYuMH106DwcuJRTqXJHI4q%2BNjA%3D%3D'\n",
    "url = f'http://ws.bus.go.kr/api/rest/stationinfo/getStationByPos?ServiceKey={key}&tmX={tmX}&tmY={tmY}&radius={radius}'\n",
    " \n",
    "content = requests.get(url).content\n",
    "dict = xmltodict.parse(content)\n",
    "\n",
    "# 첫번째 정류장이라 설정 (음성으로 확인작업을 할 것인지 이후 결정해야 함)\n",
    "stationId = json.dumps(dict['ServiceResult']['msgBody']['itemList'][0]['stationId'], ensure_ascii = False)\n",
    "stationNm = json.dumps(dict['ServiceResult']['msgBody']['itemList'][0]['stationNm'], ensure_ascii = False)\n",
    "arsId = json.dumps(dict['ServiceResult']['msgBody']['itemList'][0]['arsId'], ensure_ascii = False)\n",
    "\n",
    "json_stationId = json.loads(stationId)\n",
    "json_stationNm = json.loads(stationNm)\n",
    "json_arsId = json.loads(arsId)\n",
    "\n",
    "print('정류소ID: ' + json_stationId)\n",
    "print('정류소명: ' + json_stationNm)\n",
    "print('정류소 고유번호: ' + json_arsId)"
   ]
  },
  {
   "cell_type": "code",
   "execution_count": 2,
   "metadata": {},
   "outputs": [
    {
     "name": "stdout",
     "output_type": "stream",
     "text": [
      "방향: 조계사\n",
      "첫 번째 버스: 5분11초후[3번째 전]\n",
      "두 번째 버스: 24분37초후[15번째 전]\n",
      "노선ID: 100100091\n",
      "버스 번호: 606\n"
     ]
    }
   ],
   "source": [
    "#서울특별시_정류소정보조회 서비스 中 2_getRouteByStationList\n",
    "import requests, xmltodict, json\n",
    "\n",
    "key = 'kNSQvU5WeosgTXwCx1mTthdz93%2BlLXHKA7ZtzbuNArBuUVVP4akW5xsfp6R5JYuMH106DwcuJRTqXJHI4q%2BNjA%3D%3D'\n",
    "url = 'http://ws.bus.go.kr/api/rest/stationinfo/getStationByUid?ServiceKey={}&arsId={}'.format(key, json_arsId)\n",
    "\n",
    "content = requests.get(url).content\n",
    "dict = xmltodict.parse(content)\n",
    "\n",
    "direction = json.dumps(dict['ServiceResult']['msgBody']['itemList'][0]['adirection'], ensure_ascii = False)\n",
    "arrival = json.dumps(dict['ServiceResult']['msgBody']['itemList'][0]['arrmsg1'], ensure_ascii = False)\n",
    "arrival2 = json.dumps(dict['ServiceResult']['msgBody']['itemList'][0]['arrmsg2'], ensure_ascii = False)\n",
    "busRouteId = stationNm = json.dumps(dict['ServiceResult']['msgBody']['itemList'][0]['busRouteId'], ensure_ascii = False)\n",
    "rtNm = stationNm = json.dumps(dict['ServiceResult']['msgBody']['itemList'][0]['rtNm'], ensure_ascii = False)\n",
    "\n",
    "json_direction = json.loads(direction)\n",
    "json_arrival = json.loads(arrival)\n",
    "json_arrival2 = json.loads(arrival2)\n",
    "json_busRouteId = json.loads(busRouteId)\n",
    "json_rtNm = json.loads(rtNm)\n",
    "\n",
    "print('방향: ' + json_direction)\n",
    "print('첫 번째 버스: ' + json_arrival)\n",
    "print('두 번째 버스: ' + json_arrival2)\n",
    "print('노선ID: ' + json_busRouteId) #busRouteId\n",
    "print('버스 번호: ' + json_rtNm)"
   ]
  },
  {
   "cell_type": "code",
   "execution_count": 3,
   "metadata": {},
   "outputs": [
    {
     "name": "stdout",
     "output_type": "stream",
     "text": [
      "station: 210000047\n",
      "ord: 7\n"
     ]
    }
   ],
   "source": [
    "#서울특별시_정류소정보조회 서비스 中 2_ord 구하기\n",
    "\n",
    "key = 'kNSQvU5WeosgTXwCx1mTthdz93%2BlLXHKA7ZtzbuNArBuUVVP4akW5xsfp6R5JYuMH106DwcuJRTqXJHI4q%2BNjA%3D%3D'\n",
    "url = 'http://ws.bus.go.kr/api/rest/busRouteInfo/getStaionByRoute?ServiceKey={}&busRouteId={}'.format(key, json_busRouteId)\n",
    "\n",
    "content = requests.get(url).content\n",
    "dict = xmltodict.parse(content)\n",
    "\n",
    "station = json.dumps(dict['ServiceResult']['msgBody']['itemList'][6]['station'], ensure_ascii = False)\n",
    "seq = json.dumps(dict['ServiceResult']['msgBody']['itemList'][6]['seq'], ensure_ascii = False)\n",
    "\n",
    "json_station = json.loads(station)\n",
    "json_seq = json.loads(seq)\n",
    "\n",
    "print('station: ' + json_station) #plainnum 변수 = stId\n",
    "print('ord: ' + json_seq)"
   ]
  },
  {
   "cell_type": "code",
   "execution_count": 4,
   "metadata": {},
   "outputs": [
    {
     "name": "stdout",
     "output_type": "stream",
     "text": [
      "완성1?\n"
     ]
    },
    {
     "ename": "TypeError",
     "evalue": "list indices must be integers or slices, not str",
     "output_type": "error",
     "traceback": [
      "\u001b[1;31m---------------------------------------------------------------------------\u001b[0m",
      "\u001b[1;31mTypeError\u001b[0m                                 Traceback (most recent call last)",
      "\u001b[1;32m<ipython-input-4-43cad1448145>\u001b[0m in \u001b[0;36m<module>\u001b[1;34m\u001b[0m\n\u001b[0;32m      4\u001b[0m \u001b[0mtime\u001b[0m\u001b[1;33m.\u001b[0m\u001b[0msleep\u001b[0m\u001b[1;33m(\u001b[0m\u001b[1;36m1\u001b[0m\u001b[1;33m)\u001b[0m\u001b[1;33m\u001b[0m\u001b[1;33m\u001b[0m\u001b[0m\n\u001b[0;32m      5\u001b[0m \u001b[0mprint\u001b[0m\u001b[1;33m(\u001b[0m\u001b[1;34m'완성1?'\u001b[0m\u001b[1;33m)\u001b[0m\u001b[1;33m\u001b[0m\u001b[1;33m\u001b[0m\u001b[0m\n\u001b[1;32m----> 6\u001b[1;33m \u001b[0mbusplainnum\u001b[0m \u001b[1;33m=\u001b[0m \u001b[0mjson\u001b[0m\u001b[1;33m.\u001b[0m\u001b[0mdumps\u001b[0m\u001b[1;33m(\u001b[0m\u001b[0mdict\u001b[0m\u001b[1;33m[\u001b[0m\u001b[1;34m'ServiceResult'\u001b[0m\u001b[1;33m]\u001b[0m\u001b[1;33m[\u001b[0m\u001b[1;34m'msgBody'\u001b[0m\u001b[1;33m]\u001b[0m\u001b[1;33m[\u001b[0m\u001b[1;34m'itemList'\u001b[0m\u001b[1;33m]\u001b[0m\u001b[1;33m[\u001b[0m\u001b[1;34m'plainNo1'\u001b[0m\u001b[1;33m]\u001b[0m\u001b[1;33m,\u001b[0m \u001b[0mensure_ascii\u001b[0m \u001b[1;33m=\u001b[0m \u001b[1;32mFalse\u001b[0m\u001b[1;33m)\u001b[0m\u001b[1;33m\u001b[0m\u001b[1;33m\u001b[0m\u001b[0m\n\u001b[0m\u001b[0;32m      7\u001b[0m \u001b[0mtime\u001b[0m\u001b[1;33m.\u001b[0m\u001b[0msleep\u001b[0m\u001b[1;33m(\u001b[0m\u001b[1;36m1\u001b[0m\u001b[1;33m)\u001b[0m\u001b[1;33m\u001b[0m\u001b[1;33m\u001b[0m\u001b[0m\n\u001b[0;32m      8\u001b[0m \u001b[0mprint\u001b[0m\u001b[1;33m(\u001b[0m\u001b[1;34m'완성2?'\u001b[0m\u001b[1;33m)\u001b[0m\u001b[1;33m\u001b[0m\u001b[1;33m\u001b[0m\u001b[0m\n",
      "\u001b[1;31mTypeError\u001b[0m: list indices must be integers or slices, not str"
     ]
    }
   ],
   "source": [
    "import requests, xmltodict, json, time\n",
    "key = 'kNSQvU5WeosgTXwCx1mTthdz93%2BlLXHKA7ZtzbuNArBuUVVP4akW5xsfp6R5JYuMH106DwcuJRTqXJHI4q%2BNjA%3D%3D'\n",
    "url = 'http://ws.bus.go.kr/api/rest/arrive/getArrInfoByRoute?ServiceKey={}&stId={}&busRouteId={}&ord={}'.format(key, json_station, json_busRouteId, json_seq)\n",
    "time.sleep(1)\n",
    "print('완성1?')\n",
    "busplainnum = json.dumps(dict['ServiceResult']['msgBody']['itemList']['plainNo1'], ensure_ascii = False)\n",
    "time.sleep(1)\n",
    "print('완성2?')\n",
    "json_busplainnum = json.loads(busplainnum)\n",
    "print('도착 예정 버스 차량 번호: ' + busplainnum)\n",
    "#<------------------끝------------------>"
   ]
  },
  {
   "cell_type": "code",
   "execution_count": null,
   "metadata": {},
   "outputs": [],
   "source": [
    "#서울특별시_노선정보조회 서비스 中 1_getStationByRouteList\n",
    "import requests, xmltodict, json\n",
    "\n",
    "key = 'kNSQvU5WeosgTXwCx1mTthdz93%2BlLXHKA7ZtzbuNArBuUVVP4akW5xsfp6R5JYuMH106DwcuJRTqXJHI4q%2BNjA%3D%3D'\n",
    "busRouteId = 100100286 #x좌표, y좌표 구해지기 이전 임의 지정\n",
    "url = 'http://ws.bus.go.kr/api/rest/busRouteInfo/getStaionByRoute?ServiceKey={}&busRouteId={}'.format(key, busRouteId)\n",
    "\n",
    "content = requests.get(url).content\n",
    "dict = xmltodict.parse(content)\n",
    "# for i in range(10):\n",
    "staionId = json.dumps(dict['ServiceResult']['msgBody']['itemList'][3]['station'], ensure_ascii = False)\n",
    "busRouteId = json.dumps(dict['ServiceResult']['msgBody']['itemList'][3]['busRouteId'], ensure_ascii = False)\n",
    "seq = json.dumps(dict['ServiceResult']['msgBody']['itemList'][3]['seq'], ensure_ascii = False)\n",
    "\n",
    "jsonstaionId = json.loads(staionId)\n",
    "jsonbusRouteId = json.loads(busRouteId)\n",
    "jsonseq = json.loads(seq)\n",
    "\n",
    "print(len(jsonstaionId))\n",
    "print('stld: ' + jsonstaionId)\n",
    "print('busRouteId: ' + jsonbusRouteId)\n",
    "print('ord: ' + jsonseq)"
   ]
  },
  {
   "cell_type": "code",
   "execution_count": null,
   "metadata": {},
   "outputs": [],
   "source": [
    "#서울특별시_버스도착정보조회 서비스 中 2_getArrInfoByRouteList\n",
    "import requests, xmltodict, json\n",
    "key = 'kNSQvU5WeosgTXwCx1mTthdz93%2BlLXHKA7ZtzbuNArBuUVVP4akW5xsfp6R5JYuMH106DwcuJRTqXJHI4q%2BNjA%3D%3D'\n",
    "url = 'http://ws.bus.go.kr/api/rest/arrive/getArrInfoByRoute?ServiceKey={}&stId={}&busRouteId={}&ord={}'.format(key, jsonstaionId, jsonbusRouteId, jsonseq)\n",
    "\n",
    "content = requests.get(url).content\n",
    "dict = xmltodict.parse(content)\n",
    "busstation = json.dumps(dict['ServiceResult']['msgBody']['itemList']['stNm'], ensure_ascii = False)\n",
    "arrival = json.dumps(dict['ServiceResult']['msgBody']['itemList']['arrmsg1'], ensure_ascii = False)\n",
    "arrival2 = json.dumps(dict['ServiceResult']['msgBody']['itemList']['arrmsg2'], ensure_ascii = False)\n",
    "busplainnum = json.dumps(dict['ServiceResult']['msgBody']['itemList']['plainNo1'], ensure_ascii = False)\n",
    "\n",
    "jsonbusstation = json.loads(busstation)\n",
    "jsonarrival = json.loads(arrival)\n",
    "jsonsarrival2 = json.loads(arrival2)\n",
    "jsonsbusplainnum = json.loads(busplainnum)\n",
    "\n",
    "print('정류소명: ' + jsonbusstation)\n",
    "print('첫 번째 버스: ' + jsonarrival)\n",
    "print('두 번째 버스: ' + jsonsarrival2)\n",
    "print('도착 예정 버스 차량 번호: ' + jsonsbusplainnum)"
   ]
  },
  {
   "cell_type": "code",
   "execution_count": null,
   "metadata": {},
   "outputs": [],
   "source": []
  },
  {
   "cell_type": "code",
   "execution_count": null,
   "metadata": {},
   "outputs": [],
   "source": []
  },
  {
   "cell_type": "code",
   "execution_count": null,
   "metadata": {},
   "outputs": [],
   "source": []
  },
  {
   "cell_type": "code",
   "execution_count": null,
   "metadata": {},
   "outputs": [],
   "source": []
  },
  {
   "cell_type": "code",
   "execution_count": null,
   "metadata": {},
   "outputs": [],
   "source": []
  }
 ],
 "metadata": {
  "kernelspec": {
   "display_name": "Python 3",
   "language": "python",
   "name": "python3"
  },
  "language_info": {
   "codemirror_mode": {
    "name": "ipython",
    "version": 3
   },
   "file_extension": ".py",
   "mimetype": "text/x-python",
   "name": "python",
   "nbconvert_exporter": "python",
   "pygments_lexer": "ipython3",
   "version": "3.8.5"
  }
 },
 "nbformat": 4,
 "nbformat_minor": 4
}
